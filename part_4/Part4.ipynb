{
 "cells": [
  {
   "cell_type": "markdown",
   "id": "22163fc5",
   "metadata": {},
   "source": [
    "# Model Quantization"
   ]
  },
  {
   "cell_type": "markdown",
   "id": "44d68cc4",
   "metadata": {},
   "source": [
    "## Importing Packages"
   ]
  },
  {
   "cell_type": "code",
   "execution_count": 2,
   "id": "cde7c2b7",
   "metadata": {},
   "outputs": [],
   "source": [
    "# load necessary libraries\n",
    "import os\n",
    "import time\n",
    "import torch\n",
    "import optuna\n",
    "import random\n",
    "import evaluate\n",
    "import numpy as np\n",
    "import pandas as pd\n",
    "import seaborn as sns\n",
    "from tqdm import tqdm\n",
    "import torch.nn as nn\n",
    "import matplotlib.pyplot as plt\n",
    "from optuna.trial import TrialState\n",
    "from pathlib import Path\n",
    "\n",
    "from typing import Optional, Union, Any, Dict\n",
    "\n",
    "from datasets import Dataset\n",
    "from datasets import load_dataset, DatasetDict\n",
    "\n",
    "from transformers import (AutoTokenizer, TFAutoModel, pipeline, MarianMTModel, MarianTokenizer,\n",
    "                         AutoModelForSequenceClassification, TrainingArguments, Trainer,\n",
    "                         AutoModelForMaskedLM, EarlyStoppingCallback)\n",
    "\n",
    "from sklearn.utils import shuffle\n",
    "from sklearn.metrics import accuracy_score, precision_score, recall_score, f1_score, classification_report, multilabel_confusion_matrix\n",
    "from skmultilearn.model_selection import iterative_train_test_split\n",
    "\n",
    "import warnings\n",
    "warnings.filterwarnings('ignore')"
   ]
  },
  {
   "cell_type": "markdown",
   "id": "6fbf87f4",
   "metadata": {},
   "source": [
    "## Importing Model"
   ]
  },
  {
   "cell_type": "code",
   "execution_count": 7,
   "id": "57bac50f",
   "metadata": {},
   "outputs": [
    {
     "data": {
      "text/plain": [
       "DistilBertForSequenceClassification(\n",
       "  (distilbert): DistilBertModel(\n",
       "    (embeddings): Embeddings(\n",
       "      (word_embeddings): Embedding(30522, 768, padding_idx=0)\n",
       "      (position_embeddings): Embedding(512, 768)\n",
       "      (LayerNorm): LayerNorm((768,), eps=1e-12, elementwise_affine=True)\n",
       "      (dropout): Dropout(p=0.1, inplace=False)\n",
       "    )\n",
       "    (transformer): Transformer(\n",
       "      (layer): ModuleList(\n",
       "        (0-5): 6 x TransformerBlock(\n",
       "          (attention): DistilBertSdpaAttention(\n",
       "            (dropout): Dropout(p=0.1, inplace=False)\n",
       "            (q_lin): Linear(in_features=768, out_features=768, bias=True)\n",
       "            (k_lin): Linear(in_features=768, out_features=768, bias=True)\n",
       "            (v_lin): Linear(in_features=768, out_features=768, bias=True)\n",
       "            (out_lin): Linear(in_features=768, out_features=768, bias=True)\n",
       "          )\n",
       "          (sa_layer_norm): LayerNorm((768,), eps=1e-12, elementwise_affine=True)\n",
       "          (ffn): FFN(\n",
       "            (dropout): Dropout(p=0.1, inplace=False)\n",
       "            (lin1): Linear(in_features=768, out_features=3072, bias=True)\n",
       "            (lin2): Linear(in_features=3072, out_features=768, bias=True)\n",
       "            (activation): GELUActivation()\n",
       "          )\n",
       "          (output_layer_norm): LayerNorm((768,), eps=1e-12, elementwise_affine=True)\n",
       "        )\n",
       "      )\n",
       "    )\n",
       "  )\n",
       "  (pre_classifier): Linear(in_features=768, out_features=768, bias=True)\n",
       "  (classifier): Linear(in_features=768, out_features=5, bias=True)\n",
       "  (dropout): Dropout(p=0.2, inplace=False)\n",
       ")"
      ]
     },
     "execution_count": 7,
     "metadata": {},
     "output_type": "execute_result"
    }
   ],
   "source": [
    "cwd = os.getcwd()\n",
    "model_path = os.path.abspath(os.path.join(cwd, \"..\", \"part_3\", \"final_model\"))\n",
    "\n",
    "model100 = AutoModelForSequenceClassification.from_pretrained(\n",
    "    model_path,\n",
    "    use_safetensors=True\n",
    ")\n",
    "model100.eval()"
   ]
  },
  {
   "cell_type": "markdown",
   "id": "5066683f",
   "metadata": {},
   "source": [
    "## a) Distill/Quantize your best-performing model into a lighter model"
   ]
  },
  {
   "cell_type": "markdown",
   "id": "d4b78169",
   "metadata": {},
   "source": [
    "We will use Dynamic quantization where weights are quantized and stored in int8, and there is no need to retrain the model"
   ]
  },
  {
   "cell_type": "markdown",
   "id": "13601e49",
   "metadata": {},
   "source": [
    "To do this we will use the official PyTorch quantization toolkit: torch.quantization"
   ]
  },
  {
   "cell_type": "code",
   "execution_count": 8,
   "id": "f72a6a2e",
   "metadata": {},
   "outputs": [],
   "source": [
    "quantized_model = torch.quantization.quantize_dynamic(\n",
    "    model100, \n",
    "    {torch.nn.Linear},  # Only quantize Linear layers\n",
    "    dtype=torch.qint8 #converting from 32-bit-float to 8-bit integer\n",
    ")"
   ]
  },
  {
   "cell_type": "markdown",
   "id": "b6517943",
   "metadata": {},
   "source": [
    "We only quantize the linear layers of the model as these are the most compute-heavy layers in BERT-like models. Model quantization will specially benefit users running the model on a CPU"
   ]
  },
  {
   "cell_type": "code",
   "execution_count": 9,
   "id": "abb0698b",
   "metadata": {},
   "outputs": [],
   "source": [
    "# Define relative path using pathlib\n",
    "quantized_model_path = Path(\"quantized_model\") / \"pytorch_model.bin\"\n",
    "\n",
    "# Save the quantized model's state dict\n",
    "torch.save(quantized_model.state_dict(), quantized_model_path)"
   ]
  },
  {
   "cell_type": "markdown",
   "id": "72640fa4",
   "metadata": {},
   "source": [
    "## b) Performance and Speed Comparison "
   ]
  },
  {
   "cell_type": "markdown",
   "id": "449dc47e",
   "metadata": {},
   "source": [
    "Defining tokenizer and global random seeds"
   ]
  },
  {
   "cell_type": "code",
   "execution_count": 5,
   "id": "3d6708d7",
   "metadata": {},
   "outputs": [],
   "source": [
    "# set global seeds to all the processes\n",
    "def set_global_seeds(seed=42):\n",
    "    # Python\n",
    "    random.seed(seed)\n",
    "    # NumPy\n",
    "    np.random.seed(seed)\n",
    "    # to have compatibiliy with GPU\n",
    "    import os\n",
    "    os.environ['PYTHONHASHSEED'] = str(seed)\n",
    "\n",
    "set_global_seeds(42)\n",
    "seed=42\n",
    "\n",
    "model_ckpt   = \"distilbert/distilbert-base-uncased\"\n",
    "num_labels   = 5\n",
    "max_length   = 128                   # truncate / pad length\n",
    "batch_size   = 16\n",
    "\n",
    "# Define Tokenizer\n",
    "tok = AutoTokenizer.from_pretrained(model_ckpt)\n",
    "def tokenize(batch):\n",
    "    tokenized = tok(\n",
    "        batch[\"comment_text\"],\n",
    "        padding=\"max_length\",\n",
    "        truncation=True,\n",
    "        max_length=max_length\n",
    "    )\n",
    "    tokenized[\"labels\"] = [\n",
    "        [float(batch[label][i]) for label in labels]\n",
    "        for i in range(len(batch[\"comment_text\"]))\n",
    "    ]\n",
    "    return tokenized"
   ]
  },
  {
   "cell_type": "markdown",
   "id": "990d4c61",
   "metadata": {},
   "source": [
    "Importing data to test the speed"
   ]
  },
  {
   "cell_type": "code",
   "execution_count": 33,
   "id": "489a93c6",
   "metadata": {},
   "outputs": [],
   "source": [
    "from datasets import load_dataset\n",
    "df = load_dataset(\"Arsive/toxicity_classification_jigsaw\")\n",
    "val = df[\"validation\"].to_pandas()\n",
    "val = val.drop(columns=[\"threat\"])\n",
    "# Preserve original metadata (comment_text and id) we will use it for later comparison\n",
    "val_metadata = val[[\"comment_text\"]].copy()\n",
    "val_metadata.reset_index(drop=True, inplace=True)\n",
    "\n",
    "train = df[\"train\"].to_pandas()\n",
    "train = train.drop(columns=[\"threat\"])"
   ]
  },
  {
   "cell_type": "code",
   "execution_count": 31,
   "id": "4f806e9d",
   "metadata": {},
   "outputs": [
    {
     "name": "stderr",
     "output_type": "stream",
     "text": [
      "Map: 100%|██████████| 6490/6490 [00:00<00:00, 11760.71 examples/s]\n"
     ]
    }
   ],
   "source": [
    "labels= [\"toxic\", \"severe_toxic\", \"obscene\", \"insult\", \"identity_hate\"]\n",
    "from torch.utils.data import DataLoader\n",
    "val = Dataset.from_pandas(val).remove_columns(\"id\")\n",
    "val = val.map(tokenize, batched=True, remove_columns=[\"comment_text\"] + labels)\n",
    "val.set_format(\"torch\", [\"input_ids\",\"attention_mask\",\"labels\"])\n",
    "val_loader = DataLoader(val, batch_size=batch_size)"
   ]
  },
  {
   "cell_type": "markdown",
   "id": "7febbc06",
   "metadata": {},
   "source": [
    "testing models speed"
   ]
  },
  {
   "cell_type": "code",
   "execution_count": 8,
   "id": "f7a6e15c",
   "metadata": {},
   "outputs": [
    {
     "name": "stdout",
     "output_type": "stream",
     "text": [
      "🔹 FP32 model:  452.98 ms per batch\n",
      "🔹 INT8 model:  339.20 ms per batch\n",
      "⚡ Speedup:     1.34x faster\n"
     ]
    }
   ],
   "source": [
    "# Main model\n",
    "model100.to(\"cpu\").eval()\n",
    "\n",
    "# Quantized model\n",
    "quantized_model.to(\"cpu\").eval()\n",
    "\n",
    "# -----------------------------\n",
    "# Benchmark Function\n",
    "# -----------------------------\n",
    "def benchmark_model(model, dataloader, num_batches=20):\n",
    "    total_time = 0.0\n",
    "    n = 0\n",
    "    with torch.no_grad():\n",
    "        # Warm-up\n",
    "        for i, batch in enumerate(dataloader):\n",
    "            if i >= 3:\n",
    "                break\n",
    "            _ = model(input_ids=batch['input_ids'], attention_mask=batch['attention_mask'])\n",
    "\n",
    "        # Timed run\n",
    "        for i, batch in enumerate(dataloader):\n",
    "            if i >= num_batches:\n",
    "                break\n",
    "            start = time.time()\n",
    "            _ = model(input_ids=batch['input_ids'], attention_mask=batch['attention_mask'])\n",
    "            end = time.time()\n",
    "            total_time += (end - start)\n",
    "            n += 1\n",
    "\n",
    "    avg_time_ms = (total_time / n) * 1000\n",
    "    return avg_time_ms\n",
    "\n",
    "# -----------------------------\n",
    "# Run Benchmarks\n",
    "# -----------------------------\n",
    "fp32_time = benchmark_model(model100, val_loader)\n",
    "int8_time = benchmark_model(quantized_model, val_loader)\n",
    "\n",
    "print(f\"🔹 FP32 model:  {fp32_time:.2f} ms per batch\")\n",
    "print(f\"🔹 INT8 model:  {int8_time:.2f} ms per batch\")\n",
    "print(f\"⚡ Speedup:     {fp32_time / int8_time:.2f}x faster\")\n"
   ]
  },
  {
   "cell_type": "markdown",
   "id": "08f5ec2f",
   "metadata": {},
   "source": [
    "Now for perfomance comparison:"
   ]
  },
  {
   "cell_type": "code",
   "execution_count": 9,
   "id": "4f6b1136",
   "metadata": {},
   "outputs": [],
   "source": [
    "def evaluate_multilabel_model(\n",
    "    trainer,\n",
    "    eval_dataset,\n",
    "    label_names,\n",
    "    threshold=0.5,\n",
    "    plot_confusion=True,\n",
    "    normalize_confusion=True\n",
    "):\n",
    "    \"\"\"\n",
    "    Performs detailed evaluation of a multi-label classification model trained with Hugging Face Trainer.\n",
    "\n",
    "    Args:\n",
    "        trainer (Trainer): Trained Hugging Face Trainer object.\n",
    "        eval_dataset (Dataset): Tokenized evaluation dataset.\n",
    "        label_names (List[str]): List of label column names (e.g., [\"toxic\", ...]).\n",
    "        threshold (float): Threshold for converting sigmoid outputs to binary (default: 0.5).\n",
    "        plot_confusion (bool): Whether to plot confusion matrices.\n",
    "        normalize_confusion (bool): If True, display percentages instead of absolute counts.\n",
    "\n",
    "    Prints:\n",
    "        - Classification report with per-class precision/recall/F1\n",
    "        - Confusion matrices (optionally normalized and visualized)\n",
    "    \"\"\"\n",
    "    # 1. Predict and threshold\n",
    "    predictions_output = trainer.predict(eval_dataset)\n",
    "    logits = predictions_output.predictions\n",
    "    probs = torch.sigmoid(torch.tensor(logits)).numpy()\n",
    "    y_pred = (probs >= threshold).astype(int)\n",
    "    y_true = predictions_output.label_ids\n",
    "\n",
    "    # 2. Classification report\n",
    "    print(\"\\n Classification Report:\")\n",
    "    report = classification_report(\n",
    "        y_true,\n",
    "        y_pred,\n",
    "        target_names=label_names,\n",
    "        digits=4\n",
    "    )\n",
    "    print(report)\n",
    "\n",
    "    # 3. Confusion Matrices\n",
    "    print(\"\\n Confusion Matrices:\")\n",
    "    conf_matrices = multilabel_confusion_matrix(y_true, y_pred)\n",
    "\n",
    "    for i, label in enumerate(label_names):\n",
    "        cm = conf_matrices[i]\n",
    "\n",
    "        # Normalize to percentage if requested\n",
    "        if normalize_confusion:\n",
    "            cm_sum = cm.sum()\n",
    "            cm = cm.astype(\"float\") / cm_sum * 100 if cm_sum > 0 else cm\n",
    "\n",
    "        print(f\"\\nConfusion Matrix for '{label}':\")\n",
    "        print(np.round(cm, 2))\n",
    "\n",
    "        if plot_confusion:\n",
    "            plt.figure(figsize=(3, 3))\n",
    "            sns.heatmap(\n",
    "                cm,\n",
    "                annot=True,\n",
    "                fmt=\".1f\" if normalize_confusion else \"d\",\n",
    "                cmap=\"Blues\",\n",
    "                cbar=False\n",
    "            )\n",
    "            plt.title(f\"Confusion Matrix: {label}\")\n",
    "            plt.xlabel(\"Predicted\")\n",
    "            plt.ylabel(\"Actual\")\n",
    "            plt.tight_layout()\n",
    "            plt.show()"
   ]
  },
  {
   "cell_type": "code",
   "execution_count": 10,
   "id": "afce61a9",
   "metadata": {},
   "outputs": [],
   "source": [
    "metric_accuracy  = evaluate.load(\"accuracy\")\n",
    "metric_precision = evaluate.load(\"precision\")\n",
    "metric_recall    = evaluate.load(\"recall\")\n",
    "metric_f1        = evaluate.load(\"f1\")\n",
    "\n",
    "def compute_metrics(eval_pred):\n",
    "    logits, labels = eval_pred\n",
    "    probs = 1 / (1 + np.exp(-logits))  # sigmoid\n",
    "    preds = (probs >= 0.5).astype(int)\n",
    "\n",
    "    # Cast labels to integer type before passing to metrics\n",
    "    labels_int = labels.astype(int)\n",
    "\n",
    "    # Flatten the predictions and references for evaluation metrics\n",
    "    preds_flat = preds.flatten()\n",
    "    labels_int_flat = labels_int.flatten()\n",
    "\n",
    "    # Use the flattened arrays for computing metrics\n",
    "    # Note: Accuracy on flattened arrays represents overall element-wise accuracy.\n",
    "    # For multi-label accuracy, you might want to compute sample-based metrics,\n",
    "    # but for average=\"macro\" precision/recall/f1, flattening is appropriate.\n",
    "    acc  = metric_accuracy.compute(predictions=preds_flat, references=labels_int_flat)\n",
    "    prec = metric_precision.compute(predictions=preds_flat, references=labels_int_flat, average=\"macro\")\n",
    "    rec  = metric_recall.compute(predictions=preds_flat, references=labels_int_flat, average=\"macro\")\n",
    "    f1   = metric_f1.compute(predictions=preds_flat, references=labels_int_flat, average=\"macro\")\n",
    "\n",
    "    return {\n",
    "        \"accuracy\":  acc[\"accuracy\"],\n",
    "        \"precision\": prec[\"precision\"],\n",
    "        \"recall\":    rec[\"recall\"],\n",
    "        \"f1\":        f1[\"f1\"],\n",
    "    }"
   ]
  },
  {
   "cell_type": "code",
   "execution_count": null,
   "id": "b7335e20",
   "metadata": {},
   "outputs": [],
   "source": [
    "# Arguments for full model\n",
    "args_1_base = TrainingArguments(\n",
    "    output_dir          = \"./bert_1\",\n",
    "    eval_strategy       = \"epoch\",\n",
    "    save_strategy       = \"no\",\n",
    "    logging_strategy    = \"steps\",\n",
    "    logging_steps       = 50,\n",
    "    learning_rate       = 2e-5,\n",
    "    per_device_train_batch_size = batch_size,\n",
    "    per_device_eval_batch_size  = batch_size,\n",
    "    num_train_epochs    = 10,\n",
    "    weight_decay        = 0.01,\n",
    "    load_best_model_at_end = False,\n",
    "    metric_for_best_model = \"eval_f1\",\n",
    "    save_total_limit    = 2,\n",
    "    seed                = seed,\n",
    "    use_cpu =True,\n",
    "    report_to           = \"none\",  # Disable wandb\n",
    "    fp16                = True # Enable mixed precision training\n",
    ")\n",
    "\n",
    "# Arguments for quantized model\n",
    "args_int8 = TrainingArguments(\n",
    "    output_dir=\"./int8_eval\",\n",
    "    per_device_eval_batch_size=batch_size,\n",
    "    use_cpu =True,  # 🚨 dynamic quantized models only work on CPU\n",
    "    report_to=\"none\"\n",
    ")"
   ]
  },
  {
   "cell_type": "code",
   "execution_count": 12,
   "id": "2ec5e471",
   "metadata": {},
   "outputs": [
    {
     "name": "stderr",
     "output_type": "stream",
     "text": [
      "Map: 100%|██████████| 25960/25960 [00:02<00:00, 10885.17 examples/s]\n"
     ]
    }
   ],
   "source": [
    "train_100 = Dataset.from_pandas(train).remove_columns(\"id\")\n",
    "train_100 = train_100.map(tokenize, batched=True, remove_columns=[\"comment_text\"] + labels)\n",
    "train_100.set_format(\"torch\", [\"input_ids\",\"attention_mask\",\"labels\"])"
   ]
  },
  {
   "cell_type": "markdown",
   "id": "ac9aad60",
   "metadata": {},
   "source": [
    "Loading the trainers objects (we will not train, but they are necessary for evaluating performance)"
   ]
  },
  {
   "cell_type": "code",
   "execution_count": 13,
   "id": "516d161b",
   "metadata": {},
   "outputs": [],
   "source": [
    "trainer_int8 = Trainer(\n",
    "    model           = quantized_model,\n",
    "    args            = args_int8,   \n",
    "    eval_dataset    = val,\n",
    "    compute_metrics = compute_metrics \n",
    ")\n",
    "trainer_100 = Trainer(\n",
    "    model           = model100,\n",
    "    args            = args_1_base,\n",
    "    eval_dataset    = val,\n",
    "    compute_metrics = compute_metrics\n",
    ")"
   ]
  },
  {
   "cell_type": "markdown",
   "id": "4e1af79a",
   "metadata": {},
   "source": [
    "Running performance evaluations"
   ]
  },
  {
   "cell_type": "code",
   "execution_count": null,
   "id": "a8119399",
   "metadata": {},
   "outputs": [
    {
     "name": "stdout",
     "output_type": "stream",
     "text": [
      "\n",
      "📊 Evaluating FP32 (Original) Model:\n"
     ]
    },
    {
     "data": {
      "text/html": [],
      "text/plain": [
       "<IPython.core.display.HTML object>"
      ]
     },
     "metadata": {},
     "output_type": "display_data"
    },
    {
     "name": "stdout",
     "output_type": "stream",
     "text": [
      "\n",
      " Classification Report:\n",
      "               precision    recall  f1-score   support\n",
      "\n",
      "        toxic     0.9784    0.9842    0.9813      3034\n",
      " severe_toxic     0.8302    0.8406    0.8354       320\n",
      "      obscene     0.9593    0.9704    0.9648      1653\n",
      "       insult     0.9410    0.9416    0.9413      1559\n",
      "identity_hate     0.9129    0.9198    0.9163       262\n",
      "\n",
      "    micro avg     0.9558    0.9619    0.9588      6828\n",
      "    macro avg     0.9244    0.9313    0.9278      6828\n",
      " weighted avg     0.9558    0.9619    0.9588      6828\n",
      "  samples avg     0.4738    0.4758    0.4717      6828\n",
      "\n",
      "\n",
      " Confusion Matrices:\n",
      "\n",
      "Confusion Matrix for 'toxic':\n",
      "[[52.23  1.02]\n",
      " [ 0.74 46.01]]\n",
      "\n",
      "Confusion Matrix for 'severe_toxic':\n",
      "[[94.22  0.85]\n",
      " [ 0.79  4.14]]\n",
      "\n",
      "Confusion Matrix for 'obscene':\n",
      "[[73.48  1.05]\n",
      " [ 0.76 24.71]]\n",
      "\n",
      "Confusion Matrix for 'insult':\n",
      "[[74.56  1.42]\n",
      " [ 1.4  22.62]]\n",
      "\n",
      "Confusion Matrix for 'identity_hate':\n",
      "[[95.61  0.35]\n",
      " [ 0.32  3.71]]\n",
      "\n",
      "📊 Evaluating INT8 (Quantized) Model:\n"
     ]
    },
    {
     "name": "stderr",
     "output_type": "stream",
     "text": [
      "c:\\Users\\aleja\\OneDrive\\Escritorio\\Term_3\\nlp-toxicity-classification-analysis\\.venv\\Lib\\site-packages\\sklearn\\metrics\\_classification.py:1706: UndefinedMetricWarning: Precision is ill-defined and being set to 0.0 in samples with no predicted labels. Use `zero_division` parameter to control this behavior.\n",
      "  _warn_prf(average, modifier, f\"{metric.capitalize()} is\", result.shape[0])\n",
      "c:\\Users\\aleja\\OneDrive\\Escritorio\\Term_3\\nlp-toxicity-classification-analysis\\.venv\\Lib\\site-packages\\sklearn\\metrics\\_classification.py:1706: UndefinedMetricWarning: Recall is ill-defined and being set to 0.0 in samples with no true labels. Use `zero_division` parameter to control this behavior.\n",
      "  _warn_prf(average, modifier, f\"{metric.capitalize()} is\", result.shape[0])\n",
      "c:\\Users\\aleja\\OneDrive\\Escritorio\\Term_3\\nlp-toxicity-classification-analysis\\.venv\\Lib\\site-packages\\sklearn\\metrics\\_classification.py:1706: UndefinedMetricWarning: F-score is ill-defined and being set to 0.0 in samples with no true nor predicted labels. Use `zero_division` parameter to control this behavior.\n",
      "  _warn_prf(average, modifier, f\"{metric.capitalize()} is\", result.shape[0])\n"
     ]
    },
    {
     "data": {
      "text/html": [],
      "text/plain": [
       "<IPython.core.display.HTML object>"
      ]
     },
     "metadata": {},
     "output_type": "display_data"
    },
    {
     "name": "stdout",
     "output_type": "stream",
     "text": [
      "\n",
      " Classification Report:\n",
      "               precision    recall  f1-score   support\n",
      "\n",
      "        toxic     0.9825    0.9268    0.9539      3034\n",
      " severe_toxic     0.9027    0.3187    0.4711       320\n",
      "      obscene     0.9416    0.9564    0.9490      1653\n",
      "       insult     0.9418    0.8922    0.9163      1559\n",
      "identity_hate     0.9667    0.3321    0.4943       262\n",
      "\n",
      "    micro avg     0.9601    0.8748    0.9155      6828\n",
      "    macro avg     0.9471    0.6853    0.7569      6828\n",
      " weighted avg     0.9590    0.8748    0.9039      6828\n",
      "  samples avg     0.4486    0.4303    0.4342      6828\n",
      "\n",
      "\n",
      " Confusion Matrices:\n",
      "\n",
      "Confusion Matrix for 'toxic':\n",
      "[[52.48  0.77]\n",
      " [ 3.42 43.33]]\n",
      "\n",
      "Confusion Matrix for 'severe_toxic':\n",
      "[[94.9   0.17]\n",
      " [ 3.36  1.57]]\n",
      "\n",
      "Confusion Matrix for 'obscene':\n",
      "[[73.02  1.51]\n",
      " [ 1.11 24.36]]\n",
      "\n",
      "Confusion Matrix for 'insult':\n",
      "[[74.65  1.33]\n",
      " [ 2.59 21.43]]\n",
      "\n",
      "Confusion Matrix for 'identity_hate':\n",
      "[[9.592e+01 5.000e-02]\n",
      " [2.700e+00 1.340e+00]]\n"
     ]
    },
    {
     "name": "stderr",
     "output_type": "stream",
     "text": [
      "c:\\Users\\aleja\\OneDrive\\Escritorio\\Term_3\\nlp-toxicity-classification-analysis\\.venv\\Lib\\site-packages\\sklearn\\metrics\\_classification.py:1706: UndefinedMetricWarning: Precision is ill-defined and being set to 0.0 in samples with no predicted labels. Use `zero_division` parameter to control this behavior.\n",
      "  _warn_prf(average, modifier, f\"{metric.capitalize()} is\", result.shape[0])\n",
      "c:\\Users\\aleja\\OneDrive\\Escritorio\\Term_3\\nlp-toxicity-classification-analysis\\.venv\\Lib\\site-packages\\sklearn\\metrics\\_classification.py:1706: UndefinedMetricWarning: Recall is ill-defined and being set to 0.0 in samples with no true labels. Use `zero_division` parameter to control this behavior.\n",
      "  _warn_prf(average, modifier, f\"{metric.capitalize()} is\", result.shape[0])\n",
      "c:\\Users\\aleja\\OneDrive\\Escritorio\\Term_3\\nlp-toxicity-classification-analysis\\.venv\\Lib\\site-packages\\sklearn\\metrics\\_classification.py:1706: UndefinedMetricWarning: F-score is ill-defined and being set to 0.0 in samples with no true nor predicted labels. Use `zero_division` parameter to control this behavior.\n",
      "  _warn_prf(average, modifier, f\"{metric.capitalize()} is\", result.shape[0])\n"
     ]
    }
   ],
   "source": [
    "# Per Label performance\n",
    "print(\"\\n📊 Evaluating FP32 (Original) Model:\")\n",
    "evaluate_multilabel_model(\n",
    "    trainer=trainer_100,\n",
    "    eval_dataset=val,\n",
    "    label_names=labels,\n",
    "    threshold=0.5,\n",
    "    plot_confusion=False\n",
    ")\n",
    "\n",
    "print(\"\\n📊 Evaluating INT8 (Quantized) Model:\")\n",
    "evaluate_multilabel_model(\n",
    "    trainer=trainer_int8,\n",
    "    eval_dataset=val,\n",
    "    label_names=labels,\n",
    "    threshold=0.5,\n",
    "    plot_confusion=False\n",
    ")\n"
   ]
  },
  {
   "cell_type": "markdown",
   "id": "378fd14f",
   "metadata": {},
   "source": [
    "Aggregated Performance"
   ]
  },
  {
   "cell_type": "code",
   "execution_count": 15,
   "id": "259f05de",
   "metadata": {},
   "outputs": [
    {
     "data": {
      "text/html": [
       "\n",
       "    <div>\n",
       "      \n",
       "      <progress value='406' max='406' style='width:300px; height:20px; vertical-align: middle;'></progress>\n",
       "      [406/406 03:10]\n",
       "    </div>\n",
       "    "
      ],
      "text/plain": [
       "<IPython.core.display.HTML object>"
      ]
     },
     "metadata": {},
     "output_type": "display_data"
    },
    {
     "name": "stdout",
     "output_type": "stream",
     "text": [
      "\n",
      "📊 Evaluation Results (FP32 - Full Model):\n",
      "  Accuracy:  0.9826\n",
      "  Precision: 0.9728\n",
      "  Recall:    0.9750\n",
      "  F1 Score:  0.9739\n"
     ]
    }
   ],
   "source": [
    "eval_results_100 = trainer_100.evaluate(eval_dataset=val)\n",
    "\n",
    "print(\"\\n📊 Evaluation Results (FP32 - Full Model):\")\n",
    "print(f\"  Accuracy:  {eval_results_100['eval_accuracy']:.4f}\")\n",
    "print(f\"  Precision: {eval_results_100['eval_precision']:.4f}\")\n",
    "print(f\"  Recall:    {eval_results_100['eval_recall']:.4f}\")\n",
    "print(f\"  F1 Score:  {eval_results_100['eval_f1']:.4f}\")\n"
   ]
  },
  {
   "cell_type": "code",
   "execution_count": 16,
   "id": "46f6f4d3",
   "metadata": {},
   "outputs": [
    {
     "data": {
      "text/html": [
       "\n",
       "    <div>\n",
       "      \n",
       "      <progress value='406' max='406' style='width:300px; height:20px; vertical-align: middle;'></progress>\n",
       "      [406/406 02:19]\n",
       "    </div>\n",
       "    "
      ],
      "text/plain": [
       "<IPython.core.display.HTML object>"
      ]
     },
     "metadata": {},
     "output_type": "display_data"
    },
    {
     "name": "stdout",
     "output_type": "stream",
     "text": [
      "\n",
      "📊 Evaluation Results (INT8 - Quantized Model):\n",
      "  Accuracy:  0.9660\n",
      "  Precision: 0.9638\n",
      "  Recall:    0.9326\n",
      "  F1 Score:  0.9471\n"
     ]
    }
   ],
   "source": [
    "eval_results_int8 = trainer_int8.evaluate(eval_dataset=val)\n",
    "\n",
    "print(\"\\n📊 Evaluation Results (INT8 - Quantized Model):\")\n",
    "print(f\"  Accuracy:  {eval_results_int8['eval_accuracy']:.4f}\")\n",
    "print(f\"  Precision: {eval_results_int8['eval_precision']:.4f}\")\n",
    "print(f\"  Recall:    {eval_results_int8['eval_recall']:.4f}\")\n",
    "print(f\"  F1 Score:  {eval_results_int8['eval_f1']:.4f}\")\n"
   ]
  },
  {
   "cell_type": "markdown",
   "id": "9415f988",
   "metadata": {},
   "source": [
    "## C)  Analysis and Improvements "
   ]
  },
  {
   "cell_type": "markdown",
   "id": "2d7b4b9b",
   "metadata": {},
   "source": [
    "Overall, the performance loss from quantization is minimal, while achieving a 30–40% speedup in inference time on CPU. However, it's worth noting that recall dropped significantly for the severe_toxic and identity_hate labels, even though precision remained relatively strong. This likely stems from the fact that these classes are underrepresented in the dataset, comprising only 5.00% and 4.33% of the samples, respectively. As a result, the simplification introduced by quantization may have led to the model losing some of the finer-grained patterns needed to correctly identify these rare cases."
   ]
  },
  {
   "cell_type": "markdown",
   "id": "2076805e",
   "metadata": {},
   "source": [
    "We will analyze some examples for these two classes. Specifically, when the full model made an accurate prediction but the Quantized model did not:"
   ]
  },
  {
   "cell_type": "code",
   "execution_count": 26,
   "id": "a6f08b89",
   "metadata": {},
   "outputs": [
    {
     "name": "stderr",
     "output_type": "stream",
     "text": [
      "100%|██████████| 6490/6490 [16:04<00:00,  6.73it/s]\n"
     ]
    }
   ],
   "source": [
    "# Set rare labels to inspect\n",
    "rare_labels = [\"severe_toxic\", \"identity_hate\"]\n",
    "rare_indices = [labels.index(lbl) for lbl in rare_labels]\n",
    "\n",
    "# Convert val to a list of dictionaries\n",
    "val.set_format(\"torch\", columns=[\"input_ids\", \"attention_mask\", \"labels\"])\n",
    "val_list = [val[i] for i in range(len(val))]\n",
    "\n",
    "results = []\n",
    "\n",
    "# Run inference on both models\n",
    "model100.eval().to(\"cpu\")\n",
    "quantized_model.eval().to(\"cpu\")\n",
    "\n",
    "with torch.no_grad():\n",
    "    for i, sample in tqdm(enumerate(val_list), total=len(val_list)):\n",
    "        input_ids = sample[\"input_ids\"].unsqueeze(0)\n",
    "        attention_mask = sample[\"attention_mask\"].unsqueeze(0)\n",
    "        true_labels = sample[\"labels\"].numpy()\n",
    "\n",
    "        # Get predictions\n",
    "        logits_fp32 = model100(input_ids=input_ids, attention_mask=attention_mask).logits\n",
    "        logits_int8 = quantized_model(input_ids=input_ids, attention_mask=attention_mask).logits\n",
    "\n",
    "        probs_fp32 = torch.sigmoid(logits_fp32).squeeze().numpy()\n",
    "        probs_int8 = torch.sigmoid(logits_int8).squeeze().numpy()\n",
    "\n",
    "        preds_fp32 = (probs_fp32 >= 0.5).astype(int)\n",
    "        preds_int8 = (probs_int8 >= 0.5).astype(int)\n",
    "\n",
    "        # Check for rare label hits\n",
    "        for idx in rare_indices:\n",
    "            if true_labels[idx] == 1 and preds_fp32[idx] == 1 and preds_int8[idx] == 0:\n",
    "                results.append({\n",
    "                    \"id\": i,  # 🔥 Now includes row index\n",
    "                    \"label\": labels[idx],\n",
    "                    \"true\": int(true_labels[idx]),\n",
    "                    \"fp32_pred\": int(preds_fp32[idx]),\n",
    "                    \"int8_pred\": int(preds_int8[idx]),\n",
    "                    \"fp32_prob\": float(probs_fp32[idx]),\n",
    "                    \"int8_prob\": float(probs_int8[idx])\n",
    "                })\n"
   ]
  },
  {
   "cell_type": "code",
   "execution_count": 36,
   "id": "00d241f6",
   "metadata": {},
   "outputs": [],
   "source": [
    "df_diff = pd.DataFrame(results)\n",
    "# Step 3: Merge comment_text into df_diff using 'id'\n",
    "val_metadata.index.name = \"id\"\n",
    "# Merge using df_diff[\"id\"] and val_metadata index\n",
    "df_diff = df_diff.merge(val_metadata, on=\"id\", how=\"left\")"
   ]
  },
  {
   "cell_type": "code",
   "execution_count": null,
   "id": "ae35b553",
   "metadata": {},
   "outputs": [
    {
     "data": {
      "image/png": "[encoded data removed]",
      "text/plain": [
       "<Figure size 800x500 with 1 Axes>"
      ]
     },
     "metadata": {},
     "output_type": "display_data"
    }
   ],
   "source": [
    "# Group by label and compute average probability per model\n",
    "avg_probs = df_diff.groupby(\"label\")[[\"fp32_prob\", \"int8_prob\"]].mean().reset_index()\n",
    "\n",
    "# Melt for plotting\n",
    "avg_probs_melted = avg_probs.melt(\n",
    "    id_vars=\"label\",\n",
    "    value_vars=[\"fp32_prob\", \"int8_prob\"],\n",
    "    var_name=\"model\",\n",
    "    value_name=\"avg_probability\"\n",
    ")\n",
    "\n",
    "# Plot\n",
    "plt.figure(figsize=(8, 5))\n",
    "sns.barplot(\n",
    "    data=avg_probs_melted,\n",
    "    x=\"label\",\n",
    "    y=\"avg_probability\",\n",
    "    hue=\"model\"\n",
    ")\n",
    "\n",
    "plt.title(\"Avg Predicted Probability per Label in Missed int8 Predictions\", fontsize=14)\n",
    "plt.ylabel(\"Average Probability\", fontsize=12)\n",
    "plt.xlabel(\"Label\", fontsize=12)\n",
    "plt.ylim(0, 1)\n",
    "plt.legend(title=\"Model\")\n",
    "plt.tight_layout()\n",
    "plt.show()\n"
   ]
  },
  {
   "cell_type": "markdown",
   "id": "184b9abc",
   "metadata": {},
   "source": [
    "## Severe toxic analysis"
   ]
  },
  {
   "cell_type": "code",
   "execution_count": 47,
   "id": "6772541b",
   "metadata": {},
   "outputs": [
    {
     "name": "stdout",
     "output_type": "stream",
     "text": [
      "                                                                                                                                                                                                                                                                      comment_text  fp32_prob  int8_prob  prob_diff\n",
      "                                                                                                                                                                        Dumb Liberals \\n\\nLiberals suck.  I will beat you at tanks anytime you swastika wearing freak.  Sieg Heil.   0.985693   0.007503   0.978190\n",
      "                                                        Thanks for being late to the party \\n\\nbut I have added no new articles since yesterday.  While you have all been very impolite and overly protective, I have lost interest in torturing you, so you can go fuck yourself.   0.977846   0.015514   0.962333\n",
      "                                                                                                                               wateva minga mc donalds worker\\nu r a fuckin paedofile\\nleave ant and dec alone \\njust cause ur not famous\\nu fuckin ugly bitch fuck ur hole family   0.947888   0.002346   0.945542\n",
      "Fuck you all. This site is full of stuck up cunts, who for some unknown reason think being a part of wikipedia promotes them to President of the cyberspace. Sad pricks, go fuck yourselves. I won't be returning to this site. So off you all go to self congratulate yourselves.   0.975819   0.036370   0.939450\n",
      "                                 i DONT KNOW HOW THIS THING WORKS. BUT I'LL TELL YOU THIS. VERTIGO ACID. CALL ME FAMILY FLUFF. STOP THREATENING ME YOU TIGHT DRY LITTLE PUSSY. I OWN THIS FING CITY. AND I'LL OWN YOUR FING PUNK ASS IF YOU DONT STAY OUT OF MY BUSINESS. CAPICHE?   0.985651   0.057037   0.928613\n"
     ]
    }
   ],
   "source": [
    "# Filter only for 'severe_toxic' samples\n",
    "severe_df = df_diff[df_diff[\"label\"] == \"severe_toxic\"].copy()\n",
    "\n",
    "# Compute absolute difference in predicted probabilities\n",
    "severe_df[\"prob_diff\"] = (severe_df[\"fp32_prob\"] - severe_df[\"int8_prob\"]).abs()\n",
    "\n",
    "# Sort by difference and take top 2\n",
    "top_diff = severe_df.sort_values(by=\"prob_diff\", ascending=False).head(5)\n",
    "\n",
    "# Display relevant info\n",
    "cols_to_show = [\"comment_text\", \"fp32_prob\", \"int8_prob\", \"prob_diff\"]\n",
    "print(top_diff[cols_to_show].to_string(index=False))\n"
   ]
  },
  {
   "cell_type": "markdown",
   "id": "e6bac693",
   "metadata": {},
   "source": [
    "The quantized model struggles to accurately identify uncommon or highly toxic language. This is likely because quantization reduces the model’s ability to preserve subtle distinctions that enable the full-precision model to classify these cases correctly. For example comments like:\n",
    "\n",
    "\"Dumb Liberals ... swastika wearing freak. Sieg Heil.\"\n",
    "\n",
    "\"i DONT KNOW HOW THIS THING WORKS... I OWN THIS FING CITY...\"\n",
    "\n",
    "contain less common or very informal/slang expressions.\n",
    "\n",
    "Quantized models often generalize less well on out-of-distribution or unusual inputs due to precision loss."
   ]
  },
  {
   "cell_type": "markdown",
   "id": "04ccd217",
   "metadata": {},
   "source": [
    "## Identity hate analysis"
   ]
  },
  {
   "cell_type": "code",
   "execution_count": 48,
   "id": "b567b980",
   "metadata": {},
   "outputs": [
    {
     "name": "stdout",
     "output_type": "stream",
     "text": [
      "                                                                                                                                                                                                                                                                                                                                                                                                                                                                                                                                                                                                                                                                                                                                                                                                                                                                                                                                                                                                                                                                                                                                                                                                                                                                                                                                                                                                                                                                                                                                                                                                                                                                                                 comment_text  fp32_prob  int8_prob  prob_diff\n",
      "                                                                                                                                                                                                                                                                                                                                                                                                                                                                                                                                                                                                                                                                                                                                                                                                                                                                                                                                                                                                                                                                                                                                                                                                                                                                                                                                                                                                                                sabu is a violent piece of crap \\n\\ndis guy is so violent.he hits people with steel chairs,triple jump moonsaults ppl thru tables.he coud put som1 thru a burning table which could kill them.he was taughtby his uncle,and he is from bombay,india.\\nuser:dark-hooded smoker   0.994267   0.001979   0.992288\n",
      "                                                                                                                                                                                                                                                                                                                                                                                                                                                                                                                                                                                                                                                                                                                                                                                                                                                                                                                                                                                                                                                                                                                                                                                                                                                                                                                                                                       ur so immature fr3nzi3,im 17 and ur not evn debating.ur a 6 year old baby and im like an adult,nobody likes you.anyway,everybody doesn't like any fat assholes like u.grown-ups fight like a man,i fight using words like swearin' like eminem dos in is songs.u don't evn have a brain,shit wat a crazy guy.\\nuser:dark-hooded smoker   0.991873   0.011275   0.980598\n",
      "\"\\n\\nLOL, haha, you loser Wobbs, yeah maybe I am Epf......NOT. Although he shares some views with me on race and other things, hes some dumb Italian-British mut from Canada that actually annoys me. I have used other accounts on here, but with other anon. accounts, not as a registered user (which is allowed by Wikipedia since IP #'s change all the time). Hahaha, Wobbs, you are a fool, especially with how you place so much emphasis on those books recently released by Sykes, etc. which are minority opinions in the world of population geneticists and other researcher. For your information, Racial Reality isn't a \"\"neo-nazi\"\" site you anarchist loser with no hope because your life is meaningless and you don't know ANYTHING on what you read about with these issues. RR is a neutral point of view that seeks to refute neo-nazi, white supremacists, multi-racial, race-denier, assimilationist, biased opinions that influence works including the authors of those books you mentioned. Stick to being a pathetic lab assistant and get a life you tool and stop vandalizing pages and makin edits to suit your twisted opinons you fool. Hahaha, wow, do u accuse 'sock pupety\"\" of everyone who gets under you skin you douchebag ???  23:37, 5 January 2007 (UTC\\n\\n - Oh and Veritas you dumb fool, I find it insulting you compare my language to Epf's when at least I know what Im talkin about on this stuff while hes just some pussy who confuses people and his arguments cant comapare at all to the brilliant logic of mine. Hahah, you and Wobbs are the worst contributors to this WIkipedia thing, don't ever use this, no one wants you here !! Hahaha !!! \"   0.969461   0.001824   0.967638\n",
      "                                                                                                                                                                                                                                                                                                                                                                                                                                                                                                                                                                                                                                                                                                                                                                                                                                                                                                                                                                                                                                                                                                                                                                                                                                                                                                                   Dictionaries\\n\\nHow dare you call my contribution spam!!! I am a Kurd and I made a lsit of kurdish dictionaries. you bloody turkish nationalist and atoricity commiting bone breaking Nazi. watch out folk this slimy Turk is trying to censor the internet this is not undemocratic Turkey here, no prison cells in wikipedia you stupid Turk! And you buggers want membership to the EEC   0.992165   0.034858   0.957307\n",
      "                                                                                                                                                                                                                                                                                                                                                                                                                                                                                                                                                                                                                                                                                                                                                                                                                                                                                                                                                                                                                                                                                                                                                                                                                                  Listen you piece of shit , pencil necked twerp that you are. Nowhere did I make any further attacks to anyone. How about you get a fuckin life rather than getting a little stiffy from banning people. I couldnt give a slight fuck about your lame arse wiki. Its bullshit anyways. You people just like reading your own crap. Brisbane is a fuckin small place and google is a great tool. \\n\\nYet another christian piece of shit. I shit on your god you little fuck.   0.959242   0.003523   0.955719\n"
     ]
    }
   ],
   "source": [
    "# Filter only for 'identity_hate' samples\n",
    "severe_df = df_diff[df_diff[\"label\"] == \"identity_hate\"].copy()\n",
    "\n",
    "# Compute absolute difference in predicted probabilities\n",
    "severe_df[\"prob_diff\"] = (severe_df[\"fp32_prob\"] - severe_df[\"int8_prob\"]).abs()\n",
    "\n",
    "# Sort by difference and take top 2\n",
    "top_diff = severe_df.sort_values(by=\"prob_diff\", ascending=False).head(5)\n",
    "\n",
    "# Display relevant info\n",
    "cols_to_show = [\"comment_text\", \"fp32_prob\", \"int8_prob\", \"prob_diff\"]\n",
    "print(top_diff[cols_to_show].to_string(index=False))"
   ]
  },
  {
   "cell_type": "markdown",
   "id": "e1a34350",
   "metadata": {},
   "source": [
    "For identity hate a similar thing is happening, these comments are highly charged with specific language against ethnic or religious groups (e.g., \"Kurd, \"Turkish nationalist,\" \"christian piece of shit\"). The full model picks up these signals confidently, while quantization likely blunts or loses sensitivity to the key hateful keywords or phrases."
   ]
  },
  {
   "cell_type": "markdown",
   "id": "d5a9349b",
   "metadata": {},
   "source": [
    "## Suggested improvements"
   ]
  },
  {
   "cell_type": "markdown",
   "id": "01d58a04",
   "metadata": {},
   "source": [
    "1. Quantization-Aware Training (QAT):\n",
    "Instead of applying quantization after training, QAT incorporates quantization effects directly during training. This helps the model learn representations that are robust to reduced precision, allowing it to maintain better accuracy—especially on subtle or rare toxic cases that suffer most from post-training quantization.\n",
    "\n",
    "2. Advanced Distillation Methods:\n",
    "In this work, we did not apply knowledge distillation; however, it represents a promising avenue for improvement. Distillation can be enhanced by transferring not only the final outputs but also intermediate representations such as hidden layer activations or attention maps. Using a larger, full-precision teacher model to guide a student model can help the student capture nuanced patterns learned by the teacher. This deeper mimicry might lead to improved classification performance, especially on complex or subtle examples.\n",
    "\n",
    "3. Hybrid Quantization Strategies:\n",
    "In our approach, we applied quantization selectively—only on the linear layers of the model—while leaving other components in full precision. Although this targeted quantization provides computational speedup, it still led to some degradation in performance. As an alternative, exploring mixed-precision quantization, where critical layers such as embeddings or attention modules are kept in higher precision (e.g., FP16 or FP32) while less sensitive layers are quantized, could better preserve accuracy. "
   ]
  }
 ],
 "metadata": {
  "kernelspec": {
   "display_name": ".venv",
   "language": "python",
   "name": "python3"
  },
  "language_info": {
   "codemirror_mode": {
    "name": "ipython",
    "version": 3
   },
   "file_extension": ".py",
   "mimetype": "text/x-python",
   "name": "python",
   "nbconvert_exporter": "python",
   "pygments_lexer": "ipython3",
   "version": "3.11.0"
  }
 },
 "nbformat": 4,
 "nbformat_minor": 5
}
